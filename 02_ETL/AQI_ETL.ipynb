{
 "cells": [
  {
   "cell_type": "code",
   "execution_count": null,
   "metadata": {},
   "outputs": [],
   "source": [
    "import pandas as pd\n",
    "import matplotlib.pyplot as plt"
   ]
  },
  {
   "cell_type": "code",
   "execution_count": null,
   "metadata": {},
   "outputs": [],
   "source": [
    "# Define paths\n",
    "# Data from https://aqs.epa.gov/aqsweb/airdata/download_files.html\n",
    "path15 = '../01_Resources/EPA_AQI_data/daily_aqi_by_county_2015.csv'\n",
    "path16 = '../01_Resources/EPA_AQI_data/daily_aqi_by_county_2016.csv'\n",
    "path17 = '../01_Resources/EPA_AQI_data/daily_aqi_by_county_2017.csv'\n",
    "path18 = '../01_Resources/EPA_AQI_data/daily_aqi_by_county_2018.csv'\n",
    "path19 = '../01_Resources/EPA_AQI_data/daily_aqi_by_county_2019.csv'\n",
    "path20 = '../01_Resources/EPA_AQI_data/daily_aqi_by_county_2020.csv'"
   ]
  },
  {
   "cell_type": "code",
   "execution_count": null,
   "metadata": {},
   "outputs": [],
   "source": [
    "# Read in data for six year of AQI data\n",
    "df15 = pd.DataFrame(pd.read_csv(path15))\n",
    "df16 = pd.DataFrame(pd.read_csv(path16))\n",
    "df17 = pd.DataFrame(pd.read_csv(path17))\n",
    "df18 = pd.DataFrame(pd.read_csv(path18))\n",
    "df19 = pd.DataFrame(pd.read_csv(path19))\n",
    "df20 = pd.DataFrame(pd.read_csv(path20))\n",
    "\n",
    "df19"
   ]
  },
  {
   "cell_type": "code",
   "execution_count": null,
   "metadata": {},
   "outputs": [],
   "source": [
    "# Append all six years into one DF\n",
    "six_years_df = df15.append([df16,df17,df18,df19,df20], ignore_index=True)"
   ]
  },
  {
   "cell_type": "code",
   "execution_count": null,
   "metadata": {},
   "outputs": [],
   "source": [
    "# Split \"Date\" column into \"Year\", \"Month\", and \"Day\" columns\n",
    "six_years_df['Year'] = [d.split('-')[0] for d in six_years_df.Date]\n",
    "six_years_df['Month'] = [d.split('-')[1] for d in six_years_df.Date]\n",
    "six_years_df['Day'] = [d.split('-')[2] for d in six_years_df.Date]\n",
    "\n",
    "# Create column to hold Month and Day w/o year\n",
    "# This is to compare specific days across all six years\n",
    "# TODO: Find a cleaner, more effective way to do this\n",
    "six_years_df['Month_Day'] = six_years_df['Month'] + '-' + six_years_df['Day']\n",
    "\n",
    "# Change type from str to int64\n",
    "six_years_df = six_years_df.astype({'Year': 'int64','Month': 'int64','Day': 'int64'})\n",
    "\n",
    "# Check result\n",
    "# six_years_df"
   ]
  },
  {
   "cell_type": "code",
   "execution_count": null,
   "metadata": {},
   "outputs": [],
   "source": [
    "# Limit DF to days before June\n",
    "before_june_df = six_years_df.loc[six_years_df['Month']<6]\n",
    "\n",
    "# Export combined-year DF to CSV file\n",
    "before_june_df.to_csv('../01_Resources/EPA_AQI_data/AQI_data_2015_2020.csv')"
   ]
  },
  {
   "cell_type": "code",
   "execution_count": null,
   "metadata": {},
   "outputs": [],
   "source": []
  },
  {
   "cell_type": "code",
   "execution_count": null,
   "metadata": {},
   "outputs": [],
   "source": [
    "# Create DF to hold avg AQI for 2020 by day of the year\n",
    "avg_2020 = six_years_df.loc[six_years_df['Year']==2020].groupby('Month_Day')['AQI'].mean().reset_index()\n",
    "\n",
    "# Create DF to hold avg AQI for 2015-2019 by day of the year\n",
    "avg_historic = six_years_df.loc[six_years_df['Month']<6]\n",
    "avg_historic = avg_historic.loc[six_years_df.Year!=2020].groupby('Month_Day')['AQI'].mean().reset_index()\n",
    "\n",
    "avg_2020"
   ]
  },
  {
   "cell_type": "code",
   "execution_count": null,
   "metadata": {},
   "outputs": [],
   "source": [
    "# TODO: fix this viz\n",
    "# Need to figure out how to correctly compare dates across years\n",
    "avg_2020.plot(kind='line',figsize=(15,10))\n",
    "plt.plot(avg_historic['Month_Day'], avg_historic['AQI'])\n",
    "plt.legend([\"2020\", \"Last 5 Years\"])"
   ]
  },
  {
   "cell_type": "code",
   "execution_count": null,
   "metadata": {},
   "outputs": [],
   "source": [
    "# Trying to figure out that sudden drop\n",
    "df20.loc[df20['Date']=='2020-05-01']"
   ]
  },
  {
   "cell_type": "code",
   "execution_count": null,
   "metadata": {},
   "outputs": [],
   "source": [
    "# Trying to figure out that sudden drop\n",
    "df20.loc[df20['Date']=='2020-05-02']"
   ]
  },
  {
   "cell_type": "code",
   "execution_count": null,
   "metadata": {},
   "outputs": [],
   "source": [
    "# Split \"Date\" column into \"Year\", \"Month\", and \"Day\" columns\n",
    "df19['Year'] = [d.split('-')[0] for d in df19.Date]\n",
    "df19['Month'] = [d.split('-')[1] for d in df19.Date]\n",
    "df19['Day'] = [d.split('-')[2] for d in df19.Date]\n",
    "# Change type from str to int64\n",
    "df19 = df19.astype({'Year': 'int64','Month': 'int64','Day': 'int64'})\n",
    "\n",
    "# Repeat for 2020 dataframe\n",
    "df20['Year'] = [d.split('-')[0] for d in df20.Date]\n",
    "df20['Month'] = [d.split('-')[1] for d in df20.Date]\n",
    "df20['Day'] = [d.split('-')[2] for d in df20.Date]\n",
    "df20 = df20.astype({'Year': 'int64','Month': 'int64','Day': 'int64'})\n",
    "\n",
    "# Display result\n",
    "df20"
   ]
  },
  {
   "cell_type": "code",
   "execution_count": null,
   "metadata": {},
   "outputs": [],
   "source": [
    "# Exclude 2019 data beyond June\n",
    "df19 = df19.loc[df19.Month < 6]\n",
    "df20 = df20.loc[df20.Month < 6]\n",
    "\n",
    "df19"
   ]
  },
  {
   "cell_type": "code",
   "execution_count": null,
   "metadata": {},
   "outputs": [],
   "source": [
    "# Merge the DF on \"County Code\"\n",
    "both_years = df19.append(df20, ignore_index=True)\n",
    "both_years"
   ]
  },
  {
   "cell_type": "code",
   "execution_count": null,
   "metadata": {},
   "outputs": [],
   "source": [
    "mean_aqi_19 = df19.groupby('Date')['AQI'].mean()\n",
    "mean_aqi_20 = df20.groupby('Date')['AQI'].mean()"
   ]
  },
  {
   "cell_type": "code",
   "execution_count": null,
   "metadata": {},
   "outputs": [],
   "source": [
    "mean_aqi_19.plot(kind='line',figsize=(17,12))\n",
    "plt.plot(mean_aqi_20)\n",
    "plt.ylabel('Avg. Air Quality Index')\n",
    "plt.axvline(x='2020-02-25',c='red',alpha=.75)\n",
    "plt.axvline(x='2020-05-01',c='g',alpha=.75)\n",
    "plt.annotate('San Fransico declares state of emergency', xy=('2020-02-26', 65), c='r')\n",
    "plt.annotate('Texas starts \"reopening\"', xy=('2020-04-08', 13), c='g')\n",
    "plt.legend([\"2019\",\"2020\"])\n",
    "plt.title(\"2019 vs. 2020 Avg. Daily Air Quality Index\")"
   ]
  },
  {
   "cell_type": "code",
   "execution_count": null,
   "metadata": {},
   "outputs": [],
   "source": []
  }
 ],
 "metadata": {
  "kernelspec": {
   "display_name": "Python 3",
   "language": "python",
   "name": "python3"
  },
  "language_info": {
   "codemirror_mode": {
    "name": "ipython",
    "version": 3
   },
   "file_extension": ".py",
   "mimetype": "text/x-python",
   "name": "python",
   "nbconvert_exporter": "python",
   "pygments_lexer": "ipython3",
   "version": "3.7.4"
  }
 },
 "nbformat": 4,
 "nbformat_minor": 2
}
